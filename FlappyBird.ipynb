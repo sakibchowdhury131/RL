{
 "cells": [
  {
   "cell_type": "code",
   "execution_count": 1,
   "id": "99f91415",
   "metadata": {},
   "outputs": [
    {
     "name": "stdout",
     "output_type": "stream",
     "text": [
      "Collecting flappy-bird-gym\n",
      "  Downloading flappy_bird_gym-0.3.0-py3-none-any.whl (558 kB)\n",
      "\u001b[K     |████████████████████████████████| 558 kB 945 kB/s eta 0:00:01\n",
      "\u001b[?25hCollecting numpy~=1.19.5\n",
      "  Downloading numpy-1.19.5-cp38-cp38-manylinux2010_x86_64.whl (14.9 MB)\n",
      "\u001b[K     |████████████████████████████████| 14.9 MB 765 kB/s eta 0:00:01\n",
      "\u001b[?25hCollecting gym~=0.18.0\n",
      "  Downloading gym-0.18.3.tar.gz (1.6 MB)\n",
      "\u001b[K     |████████████████████████████████| 1.6 MB 611 kB/s eta 0:00:01\n",
      "\u001b[?25hCollecting pygame~=2.0.1\n",
      "  Downloading pygame-2.0.3-cp38-cp38-manylinux_2_17_x86_64.manylinux2014_x86_64.whl (18.3 MB)\n",
      "\u001b[K     |████████████████████████████████| 18.3 MB 924 kB/s eta 0:00:01\n",
      "\u001b[?25hRequirement already satisfied: Pillow<=8.2.0 in /usr/lib/python3/dist-packages (from gym~=0.18.0->flappy-bird-gym) (7.0.0)\n",
      "Requirement already satisfied: cloudpickle<1.7.0,>=1.2.0 in /home/sakib/.local/lib/python3.8/site-packages (from gym~=0.18.0->flappy-bird-gym) (1.6.0)\n",
      "Requirement already satisfied: pyglet<=1.5.15,>=1.4.0 in /home/sakib/.local/lib/python3.8/site-packages (from gym~=0.18.0->flappy-bird-gym) (1.5.0)\n",
      "Requirement already satisfied: scipy in /home/sakib/.local/lib/python3.8/site-packages (from gym~=0.18.0->flappy-bird-gym) (1.8.1)\n",
      "Requirement already satisfied: future in /usr/lib/python3/dist-packages (from pyglet<=1.5.15,>=1.4.0->gym~=0.18.0->flappy-bird-gym) (0.18.2)\n",
      "Building wheels for collected packages: gym\n",
      "  Building wheel for gym (setup.py) ... \u001b[?25ldone\n",
      "\u001b[?25h  Created wheel for gym: filename=gym-0.18.3-py3-none-any.whl size=1657515 sha256=5873dc8d300a91e1b9cc589fafaeb5e5e747e71cf823e579ed1b3426353e3c8a\n",
      "  Stored in directory: /home/sakib/.cache/pip/wheels/b3/03/54/9141c232861b89be935b37bdde0ea5ab472f5e18fc20623aed\n",
      "Successfully built gym\n",
      "\u001b[31mERROR: tensorflow 2.3.1 has requirement numpy<1.19.0,>=1.16.0, but you'll have numpy 1.19.5 which is incompatible.\u001b[0m\n",
      "Installing collected packages: numpy, gym, pygame, flappy-bird-gym\n",
      "  Attempting uninstall: numpy\n",
      "    Found existing installation: numpy 1.18.5\n",
      "    Uninstalling numpy-1.18.5:\n",
      "      Successfully uninstalled numpy-1.18.5\n",
      "  Attempting uninstall: gym\n",
      "    Found existing installation: gym 0.23.1\n",
      "    Uninstalling gym-0.23.1:\n",
      "      Successfully uninstalled gym-0.23.1\n",
      "  Attempting uninstall: pygame\n",
      "    Found existing installation: pygame 2.1.2\n",
      "    Uninstalling pygame-2.1.2:\n",
      "      Successfully uninstalled pygame-2.1.2\n",
      "Successfully installed flappy-bird-gym-0.3.0 gym-0.18.3 numpy-1.19.5 pygame-2.0.3\n"
     ]
    }
   ],
   "source": [
    "! pip install flappy-bird-gym"
   ]
  },
  {
   "cell_type": "code",
   "execution_count": 4,
   "id": "d5323330",
   "metadata": {},
   "outputs": [
    {
     "ename": "Exception",
     "evalue": "ROM is missing for space_invaders, see https://github.com/openai/atari-py#roms for instructions",
     "output_type": "error",
     "traceback": [
      "\u001b[0;31m---------------------------------------------------------------------------\u001b[0m",
      "\u001b[0;31mException\u001b[0m                                 Traceback (most recent call last)",
      "Input \u001b[0;32mIn [4]\u001b[0m, in \u001b[0;36m<cell line: 1>\u001b[0;34m()\u001b[0m\n\u001b[0;32m----> 1\u001b[0m env \u001b[38;5;241m=\u001b[39m \u001b[43mgym\u001b[49m\u001b[38;5;241;43m.\u001b[39;49m\u001b[43mmake\u001b[49m\u001b[43m(\u001b[49m\u001b[38;5;124;43m'\u001b[39;49m\u001b[38;5;124;43mSpaceInvaders-v0\u001b[39;49m\u001b[38;5;124;43m'\u001b[39;49m\u001b[43m)\u001b[49m\n",
      "File \u001b[0;32m~/.local/lib/python3.8/site-packages/gym/envs/registration.py:145\u001b[0m, in \u001b[0;36mmake\u001b[0;34m(id, **kwargs)\u001b[0m\n\u001b[1;32m    144\u001b[0m \u001b[38;5;28;01mdef\u001b[39;00m \u001b[38;5;21mmake\u001b[39m(\u001b[38;5;28mid\u001b[39m, \u001b[38;5;241m*\u001b[39m\u001b[38;5;241m*\u001b[39mkwargs):\n\u001b[0;32m--> 145\u001b[0m     \u001b[38;5;28;01mreturn\u001b[39;00m \u001b[43mregistry\u001b[49m\u001b[38;5;241;43m.\u001b[39;49m\u001b[43mmake\u001b[49m\u001b[43m(\u001b[49m\u001b[38;5;28;43mid\u001b[39;49m\u001b[43m,\u001b[49m\u001b[43m \u001b[49m\u001b[38;5;241;43m*\u001b[39;49m\u001b[38;5;241;43m*\u001b[39;49m\u001b[43mkwargs\u001b[49m\u001b[43m)\u001b[49m\n",
      "File \u001b[0;32m~/.local/lib/python3.8/site-packages/gym/envs/registration.py:90\u001b[0m, in \u001b[0;36mEnvRegistry.make\u001b[0;34m(self, path, **kwargs)\u001b[0m\n\u001b[1;32m     88\u001b[0m     logger\u001b[38;5;241m.\u001b[39minfo(\u001b[38;5;124m'\u001b[39m\u001b[38;5;124mMaking new env: \u001b[39m\u001b[38;5;132;01m%s\u001b[39;00m\u001b[38;5;124m'\u001b[39m, path)\n\u001b[1;32m     89\u001b[0m spec \u001b[38;5;241m=\u001b[39m \u001b[38;5;28mself\u001b[39m\u001b[38;5;241m.\u001b[39mspec(path)\n\u001b[0;32m---> 90\u001b[0m env \u001b[38;5;241m=\u001b[39m \u001b[43mspec\u001b[49m\u001b[38;5;241;43m.\u001b[39;49m\u001b[43mmake\u001b[49m\u001b[43m(\u001b[49m\u001b[38;5;241;43m*\u001b[39;49m\u001b[38;5;241;43m*\u001b[39;49m\u001b[43mkwargs\u001b[49m\u001b[43m)\u001b[49m\n\u001b[1;32m     91\u001b[0m \u001b[38;5;66;03m# We used to have people override _reset/_step rather than\u001b[39;00m\n\u001b[1;32m     92\u001b[0m \u001b[38;5;66;03m# reset/step. Set _gym_disable_underscore_compat = True on\u001b[39;00m\n\u001b[1;32m     93\u001b[0m \u001b[38;5;66;03m# your environment if you use these methods and don't want\u001b[39;00m\n\u001b[1;32m     94\u001b[0m \u001b[38;5;66;03m# compatibility code to be invoked.\u001b[39;00m\n\u001b[1;32m     95\u001b[0m \u001b[38;5;28;01mif\u001b[39;00m \u001b[38;5;28mhasattr\u001b[39m(env, \u001b[38;5;124m\"\u001b[39m\u001b[38;5;124m_reset\u001b[39m\u001b[38;5;124m\"\u001b[39m) \u001b[38;5;129;01mand\u001b[39;00m \u001b[38;5;28mhasattr\u001b[39m(env, \u001b[38;5;124m\"\u001b[39m\u001b[38;5;124m_step\u001b[39m\u001b[38;5;124m\"\u001b[39m) \u001b[38;5;129;01mand\u001b[39;00m \u001b[38;5;129;01mnot\u001b[39;00m \u001b[38;5;28mgetattr\u001b[39m(env, \u001b[38;5;124m\"\u001b[39m\u001b[38;5;124m_gym_disable_underscore_compat\u001b[39m\u001b[38;5;124m\"\u001b[39m, \u001b[38;5;28;01mFalse\u001b[39;00m):\n",
      "File \u001b[0;32m~/.local/lib/python3.8/site-packages/gym/envs/registration.py:60\u001b[0m, in \u001b[0;36mEnvSpec.make\u001b[0;34m(self, **kwargs)\u001b[0m\n\u001b[1;32m     58\u001b[0m \u001b[38;5;28;01melse\u001b[39;00m:\n\u001b[1;32m     59\u001b[0m     \u001b[38;5;28mcls\u001b[39m \u001b[38;5;241m=\u001b[39m load(\u001b[38;5;28mself\u001b[39m\u001b[38;5;241m.\u001b[39mentry_point)\n\u001b[0;32m---> 60\u001b[0m     env \u001b[38;5;241m=\u001b[39m \u001b[38;5;28;43mcls\u001b[39;49m\u001b[43m(\u001b[49m\u001b[38;5;241;43m*\u001b[39;49m\u001b[38;5;241;43m*\u001b[39;49m\u001b[43m_kwargs\u001b[49m\u001b[43m)\u001b[49m\n\u001b[1;32m     62\u001b[0m \u001b[38;5;66;03m# Make the environment aware of which spec it came from.\u001b[39;00m\n\u001b[1;32m     63\u001b[0m spec \u001b[38;5;241m=\u001b[39m copy\u001b[38;5;241m.\u001b[39mdeepcopy(\u001b[38;5;28mself\u001b[39m)\n",
      "File \u001b[0;32m~/.local/lib/python3.8/site-packages/gym/envs/atari/atari_env.py:49\u001b[0m, in \u001b[0;36mAtariEnv.__init__\u001b[0;34m(self, game, mode, difficulty, obs_type, frameskip, repeat_action_probability, full_action_space)\u001b[0m\n\u001b[1;32m     46\u001b[0m \u001b[38;5;28;01massert\u001b[39;00m obs_type \u001b[38;5;129;01min\u001b[39;00m (\u001b[38;5;124m'\u001b[39m\u001b[38;5;124mram\u001b[39m\u001b[38;5;124m'\u001b[39m, \u001b[38;5;124m'\u001b[39m\u001b[38;5;124mimage\u001b[39m\u001b[38;5;124m'\u001b[39m)\n\u001b[1;32m     48\u001b[0m \u001b[38;5;28mself\u001b[39m\u001b[38;5;241m.\u001b[39mgame \u001b[38;5;241m=\u001b[39m game\n\u001b[0;32m---> 49\u001b[0m \u001b[38;5;28mself\u001b[39m\u001b[38;5;241m.\u001b[39mgame_path \u001b[38;5;241m=\u001b[39m \u001b[43matari_py\u001b[49m\u001b[38;5;241;43m.\u001b[39;49m\u001b[43mget_game_path\u001b[49m\u001b[43m(\u001b[49m\u001b[43mgame\u001b[49m\u001b[43m)\u001b[49m\n\u001b[1;32m     50\u001b[0m \u001b[38;5;28mself\u001b[39m\u001b[38;5;241m.\u001b[39mgame_mode \u001b[38;5;241m=\u001b[39m mode\n\u001b[1;32m     51\u001b[0m \u001b[38;5;28mself\u001b[39m\u001b[38;5;241m.\u001b[39mgame_difficulty \u001b[38;5;241m=\u001b[39m difficulty\n",
      "File \u001b[0;32m~/.local/lib/python3.8/site-packages/atari_py/games.py:20\u001b[0m, in \u001b[0;36mget_game_path\u001b[0;34m(game_name)\u001b[0m\n\u001b[1;32m     18\u001b[0m path \u001b[38;5;241m=\u001b[39m os\u001b[38;5;241m.\u001b[39mpath\u001b[38;5;241m.\u001b[39mjoin(_games_dir, game_name) \u001b[38;5;241m+\u001b[39m \u001b[38;5;124m\"\u001b[39m\u001b[38;5;124m.bin\u001b[39m\u001b[38;5;124m\"\u001b[39m\n\u001b[1;32m     19\u001b[0m \u001b[38;5;28;01mif\u001b[39;00m \u001b[38;5;129;01mnot\u001b[39;00m os\u001b[38;5;241m.\u001b[39mpath\u001b[38;5;241m.\u001b[39mexists(path):\n\u001b[0;32m---> 20\u001b[0m     \u001b[38;5;28;01mraise\u001b[39;00m \u001b[38;5;167;01mException\u001b[39;00m(\u001b[38;5;124m'\u001b[39m\u001b[38;5;124mROM is missing for \u001b[39m\u001b[38;5;132;01m%s\u001b[39;00m\u001b[38;5;124m, see https://github.com/openai/atari-py#roms for instructions\u001b[39m\u001b[38;5;124m'\u001b[39m \u001b[38;5;241m%\u001b[39m (game_name,))\n\u001b[1;32m     21\u001b[0m \u001b[38;5;28;01mreturn\u001b[39;00m path\n",
      "\u001b[0;31mException\u001b[0m: ROM is missing for space_invaders, see https://github.com/openai/atari-py#roms for instructions"
     ]
    }
   ],
   "source": [
    "env = gym.make('SpaceInvaders-v0')"
   ]
  }
 ],
 "metadata": {
  "kernelspec": {
   "display_name": "Python 3 (ipykernel)",
   "language": "python",
   "name": "python3"
  },
  "language_info": {
   "codemirror_mode": {
    "name": "ipython",
    "version": 3
   },
   "file_extension": ".py",
   "mimetype": "text/x-python",
   "name": "python",
   "nbconvert_exporter": "python",
   "pygments_lexer": "ipython3",
   "version": "3.8.10"
  }
 },
 "nbformat": 4,
 "nbformat_minor": 5
}
